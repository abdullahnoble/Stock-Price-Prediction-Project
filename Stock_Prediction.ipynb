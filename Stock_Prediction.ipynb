{
  "nbformat": 4,
  "nbformat_minor": 0,
  "metadata": {
    "colab": {
      "name": "Stock Prediction.ipynb",
      "provenance": [],
      "collapsed_sections": [
        "KK9LhO6Pzne5",
        "9VNU0VMfzuj_",
        "-Ayh5GkH9a8S",
        "rKEAc1dDEcbS"
      ]
    },
    "kernelspec": {
      "name": "python3",
      "display_name": "Python 3"
    },
    "language_info": {
      "name": "python"
    }
  },
  "cells": [
    {
      "cell_type": "markdown",
      "metadata": {
        "id": "BumjLiluId33"
      },
      "source": [
        "#Introduction"
      ]
    },
    {
      "cell_type": "markdown",
      "metadata": {
        "id": "XosylcbGIin8"
      },
      "source": [
        "This is a stock price prediction project where we will be using the historical Bank NIFTY data of past 10 years to make a model that can predict the Opening prices of the future stocks. We would use a multivariate LSTM model (whose hyperparameter tuning is left for now)."
      ]
    },
    {
      "cell_type": "markdown",
      "metadata": {
        "id": "YA96WgsvFKsR"
      },
      "source": [
        "#Importing Necessary Libraries"
      ]
    },
    {
      "cell_type": "code",
      "metadata": {
        "id": "Rx5tZSLm8jhv"
      },
      "source": [
        "import pandas as pd\n",
        "import numpy as np\n",
        "import matplotlib.pyplot as plt\n",
        "import math\n",
        "\n",
        "from sklearn.preprocessing import MinMaxScaler, StandardScaler\n",
        "from sklearn.metrics import mean_squared_error, r2_score\n",
        "\n",
        "import tensorflow as tf\n",
        "from tensorflow.keras import Sequential\n",
        "from tensorflow.keras.layers import Dense, LSTM, Dropout"
      ],
      "execution_count": 4,
      "outputs": []
    },
    {
      "cell_type": "markdown",
      "metadata": {
        "id": "G-9Y0DBDFVm9"
      },
      "source": [
        "#Importing the Data File"
      ]
    },
    {
      "cell_type": "code",
      "metadata": {
        "colab": {
          "resources": {
            "http://localhost:8080/nbextensions/google.colab/files.js": {
              "data": "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",
              "ok": true,
              "headers": [
                [
                  "content-type",
                  "application/javascript"
                ]
              ],
              "status": 200,
              "status_text": ""
            }
          },
          "base_uri": "https://localhost:8080/",
          "height": 73
        },
        "id": "NMGuc-SN93Wq",
        "outputId": "94d32f53-b85d-4924-f539-7a6b32d742a7"
      },
      "source": [
        "from google.colab import files\n",
        "uploaded = files.upload()"
      ],
      "execution_count": 2,
      "outputs": [
        {
          "output_type": "display_data",
          "data": {
            "text/html": [
              "\n",
              "     <input type=\"file\" id=\"files-78094724-0553-49b7-871d-ef5900a48502\" name=\"files[]\" multiple disabled\n",
              "        style=\"border:none\" />\n",
              "     <output id=\"result-78094724-0553-49b7-871d-ef5900a48502\">\n",
              "      Upload widget is only available when the cell has been executed in the\n",
              "      current browser session. Please rerun this cell to enable.\n",
              "      </output>\n",
              "      <script src=\"/nbextensions/google.colab/files.js\"></script> "
            ],
            "text/plain": [
              "<IPython.core.display.HTML object>"
            ]
          },
          "metadata": {
            "tags": []
          }
        },
        {
          "output_type": "stream",
          "text": [
            "Saving nse.csv to nse.csv\n"
          ],
          "name": "stdout"
        }
      ]
    },
    {
      "cell_type": "code",
      "metadata": {
        "colab": {
          "base_uri": "https://localhost:8080/",
          "height": 203
        },
        "id": "enFZtcfS-Rjx",
        "outputId": "a23de492-b58a-4aad-f495-35cd08f75f6b"
      },
      "source": [
        "import io\n",
        "\n",
        "df = pd.read_csv(io.BytesIO(uploaded['nse.csv']))\n",
        "df.head()"
      ],
      "execution_count": 32,
      "outputs": [
        {
          "output_type": "execute_result",
          "data": {
            "text/html": [
              "<div>\n",
              "<style scoped>\n",
              "    .dataframe tbody tr th:only-of-type {\n",
              "        vertical-align: middle;\n",
              "    }\n",
              "\n",
              "    .dataframe tbody tr th {\n",
              "        vertical-align: top;\n",
              "    }\n",
              "\n",
              "    .dataframe thead th {\n",
              "        text-align: right;\n",
              "    }\n",
              "</style>\n",
              "<table border=\"1\" class=\"dataframe\">\n",
              "  <thead>\n",
              "    <tr style=\"text-align: right;\">\n",
              "      <th></th>\n",
              "      <th>Date</th>\n",
              "      <th>Open</th>\n",
              "      <th>High</th>\n",
              "      <th>Low</th>\n",
              "      <th>Close</th>\n",
              "      <th>Shares Traded</th>\n",
              "      <th>Turnover (Rs. Cr)</th>\n",
              "    </tr>\n",
              "  </thead>\n",
              "  <tbody>\n",
              "    <tr>\n",
              "      <th>0</th>\n",
              "      <td>03-Jan-2011</td>\n",
              "      <td>11882.10</td>\n",
              "      <td>11912.15</td>\n",
              "      <td>11826.95</td>\n",
              "      <td>11855.75</td>\n",
              "      <td>8895927</td>\n",
              "      <td>909.29</td>\n",
              "    </tr>\n",
              "    <tr>\n",
              "      <th>1</th>\n",
              "      <td>04-Jan-2011</td>\n",
              "      <td>11868.40</td>\n",
              "      <td>11872.80</td>\n",
              "      <td>11545.55</td>\n",
              "      <td>11564.05</td>\n",
              "      <td>16041214</td>\n",
              "      <td>1949.98</td>\n",
              "    </tr>\n",
              "    <tr>\n",
              "      <th>2</th>\n",
              "      <td>05-Jan-2011</td>\n",
              "      <td>11545.75</td>\n",
              "      <td>11545.75</td>\n",
              "      <td>11265.55</td>\n",
              "      <td>11305.45</td>\n",
              "      <td>19689201</td>\n",
              "      <td>1988.86</td>\n",
              "    </tr>\n",
              "    <tr>\n",
              "      <th>3</th>\n",
              "      <td>06-Jan-2011</td>\n",
              "      <td>11350.70</td>\n",
              "      <td>11377.10</td>\n",
              "      <td>11164.75</td>\n",
              "      <td>11186.80</td>\n",
              "      <td>19559984</td>\n",
              "      <td>2114.13</td>\n",
              "    </tr>\n",
              "    <tr>\n",
              "      <th>4</th>\n",
              "      <td>07-Jan-2011</td>\n",
              "      <td>11146.45</td>\n",
              "      <td>11258.50</td>\n",
              "      <td>11007.90</td>\n",
              "      <td>11053.35</td>\n",
              "      <td>25192954</td>\n",
              "      <td>2746.05</td>\n",
              "    </tr>\n",
              "  </tbody>\n",
              "</table>\n",
              "</div>"
            ],
            "text/plain": [
              "          Date      Open      High  ...     Close  Shares Traded Turnover (Rs. Cr)\n",
              "0  03-Jan-2011  11882.10  11912.15  ...  11855.75        8895927            909.29\n",
              "1  04-Jan-2011  11868.40  11872.80  ...  11564.05       16041214           1949.98\n",
              "2  05-Jan-2011  11545.75  11545.75  ...  11305.45       19689201           1988.86\n",
              "3  06-Jan-2011  11350.70  11377.10  ...  11186.80       19559984           2114.13\n",
              "4  07-Jan-2011  11146.45  11258.50  ...  11053.35       25192954           2746.05\n",
              "\n",
              "[5 rows x 7 columns]"
            ]
          },
          "metadata": {
            "tags": []
          },
          "execution_count": 32
        }
      ]
    },
    {
      "cell_type": "code",
      "metadata": {
        "colab": {
          "base_uri": "https://localhost:8080/"
        },
        "id": "2mc03nv8-gV1",
        "outputId": "41f82f27-d0f9-46b8-a3a3-9125064c771f"
      },
      "source": [
        "df.columns"
      ],
      "execution_count": 33,
      "outputs": [
        {
          "output_type": "execute_result",
          "data": {
            "text/plain": [
              "Index(['Date', 'Open', 'High', 'Low', 'Close', 'Shares Traded',\n",
              "       'Turnover (Rs. Cr)'],\n",
              "      dtype='object')"
            ]
          },
          "metadata": {
            "tags": []
          },
          "execution_count": 33
        }
      ]
    },
    {
      "cell_type": "code",
      "metadata": {
        "id": "GNrlOyD9-jkO"
      },
      "source": [
        "Dates = df[\"Date\"]\n",
        "df.set_index(\"Date\", inplace = True)\n",
        "df.drop(columns = ['Shares Traded', 'Turnover (Rs. Cr)'], inplace = True)"
      ],
      "execution_count": 34,
      "outputs": []
    },
    {
      "cell_type": "code",
      "metadata": {
        "colab": {
          "base_uri": "https://localhost:8080/"
        },
        "id": "k5oDYmQeGgPD",
        "outputId": "d427459b-b191-4cf1-a2d7-18ed1532b328"
      },
      "source": [
        "df.dtypes"
      ],
      "execution_count": 35,
      "outputs": [
        {
          "output_type": "execute_result",
          "data": {
            "text/plain": [
              "Open     float64\n",
              "High     float64\n",
              "Low      float64\n",
              "Close    float64\n",
              "dtype: object"
            ]
          },
          "metadata": {
            "tags": []
          },
          "execution_count": 35
        }
      ]
    },
    {
      "cell_type": "code",
      "metadata": {
        "colab": {
          "base_uri": "https://localhost:8080/",
          "height": 234
        },
        "id": "3iNgWdxU-75X",
        "outputId": "9ae4d8d0-e9a5-4136-95b1-ced03d494db3"
      },
      "source": [
        "df.head()"
      ],
      "execution_count": 36,
      "outputs": [
        {
          "output_type": "execute_result",
          "data": {
            "text/html": [
              "<div>\n",
              "<style scoped>\n",
              "    .dataframe tbody tr th:only-of-type {\n",
              "        vertical-align: middle;\n",
              "    }\n",
              "\n",
              "    .dataframe tbody tr th {\n",
              "        vertical-align: top;\n",
              "    }\n",
              "\n",
              "    .dataframe thead th {\n",
              "        text-align: right;\n",
              "    }\n",
              "</style>\n",
              "<table border=\"1\" class=\"dataframe\">\n",
              "  <thead>\n",
              "    <tr style=\"text-align: right;\">\n",
              "      <th></th>\n",
              "      <th>Open</th>\n",
              "      <th>High</th>\n",
              "      <th>Low</th>\n",
              "      <th>Close</th>\n",
              "    </tr>\n",
              "    <tr>\n",
              "      <th>Date</th>\n",
              "      <th></th>\n",
              "      <th></th>\n",
              "      <th></th>\n",
              "      <th></th>\n",
              "    </tr>\n",
              "  </thead>\n",
              "  <tbody>\n",
              "    <tr>\n",
              "      <th>03-Jan-2011</th>\n",
              "      <td>11882.10</td>\n",
              "      <td>11912.15</td>\n",
              "      <td>11826.95</td>\n",
              "      <td>11855.75</td>\n",
              "    </tr>\n",
              "    <tr>\n",
              "      <th>04-Jan-2011</th>\n",
              "      <td>11868.40</td>\n",
              "      <td>11872.80</td>\n",
              "      <td>11545.55</td>\n",
              "      <td>11564.05</td>\n",
              "    </tr>\n",
              "    <tr>\n",
              "      <th>05-Jan-2011</th>\n",
              "      <td>11545.75</td>\n",
              "      <td>11545.75</td>\n",
              "      <td>11265.55</td>\n",
              "      <td>11305.45</td>\n",
              "    </tr>\n",
              "    <tr>\n",
              "      <th>06-Jan-2011</th>\n",
              "      <td>11350.70</td>\n",
              "      <td>11377.10</td>\n",
              "      <td>11164.75</td>\n",
              "      <td>11186.80</td>\n",
              "    </tr>\n",
              "    <tr>\n",
              "      <th>07-Jan-2011</th>\n",
              "      <td>11146.45</td>\n",
              "      <td>11258.50</td>\n",
              "      <td>11007.90</td>\n",
              "      <td>11053.35</td>\n",
              "    </tr>\n",
              "  </tbody>\n",
              "</table>\n",
              "</div>"
            ],
            "text/plain": [
              "                 Open      High       Low     Close\n",
              "Date                                               \n",
              "03-Jan-2011  11882.10  11912.15  11826.95  11855.75\n",
              "04-Jan-2011  11868.40  11872.80  11545.55  11564.05\n",
              "05-Jan-2011  11545.75  11545.75  11265.55  11305.45\n",
              "06-Jan-2011  11350.70  11377.10  11164.75  11186.80\n",
              "07-Jan-2011  11146.45  11258.50  11007.90  11053.35"
            ]
          },
          "metadata": {
            "tags": []
          },
          "execution_count": 36
        }
      ]
    },
    {
      "cell_type": "code",
      "metadata": {
        "colab": {
          "base_uri": "https://localhost:8080/",
          "height": 295
        },
        "id": "16piOnDGFBa3",
        "outputId": "9b4812ee-f4c1-4170-b5d7-46c1d51590e3"
      },
      "source": [
        "df.describe()"
      ],
      "execution_count": null,
      "outputs": [
        {
          "output_type": "execute_result",
          "data": {
            "text/html": [
              "<div>\n",
              "<style scoped>\n",
              "    .dataframe tbody tr th:only-of-type {\n",
              "        vertical-align: middle;\n",
              "    }\n",
              "\n",
              "    .dataframe tbody tr th {\n",
              "        vertical-align: top;\n",
              "    }\n",
              "\n",
              "    .dataframe thead th {\n",
              "        text-align: right;\n",
              "    }\n",
              "</style>\n",
              "<table border=\"1\" class=\"dataframe\">\n",
              "  <thead>\n",
              "    <tr style=\"text-align: right;\">\n",
              "      <th></th>\n",
              "      <th>Open</th>\n",
              "      <th>High</th>\n",
              "      <th>Low</th>\n",
              "      <th>Close</th>\n",
              "    </tr>\n",
              "  </thead>\n",
              "  <tbody>\n",
              "    <tr>\n",
              "      <th>count</th>\n",
              "      <td>2584.000000</td>\n",
              "      <td>2584.000000</td>\n",
              "      <td>2584.000000</td>\n",
              "      <td>2584.000000</td>\n",
              "    </tr>\n",
              "    <tr>\n",
              "      <th>mean</th>\n",
              "      <td>19173.983785</td>\n",
              "      <td>19325.218247</td>\n",
              "      <td>18991.752593</td>\n",
              "      <td>19158.387248</td>\n",
              "    </tr>\n",
              "    <tr>\n",
              "      <th>std</th>\n",
              "      <td>7396.127876</td>\n",
              "      <td>7438.691657</td>\n",
              "      <td>7337.439429</td>\n",
              "      <td>7389.489445</td>\n",
              "    </tr>\n",
              "    <tr>\n",
              "      <th>min</th>\n",
              "      <td>7948.450000</td>\n",
              "      <td>7961.700000</td>\n",
              "      <td>7766.350000</td>\n",
              "      <td>7798.550000</td>\n",
              "    </tr>\n",
              "    <tr>\n",
              "      <th>25%</th>\n",
              "      <td>11622.737500</td>\n",
              "      <td>11742.050000</td>\n",
              "      <td>11534.237500</td>\n",
              "      <td>11633.787500</td>\n",
              "    </tr>\n",
              "    <tr>\n",
              "      <th>50%</th>\n",
              "      <td>18448.350000</td>\n",
              "      <td>18602.825000</td>\n",
              "      <td>18287.125000</td>\n",
              "      <td>18443.400000</td>\n",
              "    </tr>\n",
              "    <tr>\n",
              "      <th>75%</th>\n",
              "      <td>25390.200000</td>\n",
              "      <td>25498.225000</td>\n",
              "      <td>25149.012500</td>\n",
              "      <td>25335.400000</td>\n",
              "    </tr>\n",
              "    <tr>\n",
              "      <th>max</th>\n",
              "      <td>37492.600000</td>\n",
              "      <td>37708.750000</td>\n",
              "      <td>36764.250000</td>\n",
              "      <td>37306.250000</td>\n",
              "    </tr>\n",
              "  </tbody>\n",
              "</table>\n",
              "</div>"
            ],
            "text/plain": [
              "               Open          High           Low         Close\n",
              "count   2584.000000   2584.000000   2584.000000   2584.000000\n",
              "mean   19173.983785  19325.218247  18991.752593  19158.387248\n",
              "std     7396.127876   7438.691657   7337.439429   7389.489445\n",
              "min     7948.450000   7961.700000   7766.350000   7798.550000\n",
              "25%    11622.737500  11742.050000  11534.237500  11633.787500\n",
              "50%    18448.350000  18602.825000  18287.125000  18443.400000\n",
              "75%    25390.200000  25498.225000  25149.012500  25335.400000\n",
              "max    37492.600000  37708.750000  36764.250000  37306.250000"
            ]
          },
          "metadata": {
            "tags": []
          },
          "execution_count": 63
        }
      ]
    },
    {
      "cell_type": "code",
      "metadata": {
        "colab": {
          "base_uri": "https://localhost:8080/",
          "height": 405
        },
        "id": "JwmhGYLu-9IX",
        "outputId": "4085335a-bb90-4c67-a7f7-e4a204514cc5"
      },
      "source": [
        "df[\"Open\"].plot(figsize = (16,6))"
      ],
      "execution_count": null,
      "outputs": [
        {
          "output_type": "execute_result",
          "data": {
            "text/plain": [
              "<matplotlib.axes._subplots.AxesSubplot at 0x7fc3a17cb4d0>"
            ]
          },
          "metadata": {
            "tags": []
          },
          "execution_count": 14
        },
        {
          "output_type": "display_data",
          "data": {
            "image/png": "[encoded data removed]",
            "text/plain": [
              "<Figure size 1152x432 with 1 Axes>"
            ]
          },
          "metadata": {
            "tags": [],
            "needs_background": "light"
          }
        }
      ]
    },
    {
      "cell_type": "markdown",
      "metadata": {
        "id": "GY7u7EIkFJ4D"
      },
      "source": [
        "#Scalers"
      ]
    },
    {
      "cell_type": "code",
      "metadata": {
        "id": "oeeZnrnz__jE"
      },
      "source": [
        "mm_scaler = MinMaxScaler(feature_range = (0, 1))\n",
        "std_scaler = StandardScaler() "
      ],
      "execution_count": 115,
      "outputs": []
    },
    {
      "cell_type": "markdown",
      "metadata": {
        "id": "Ml3zEd1WFl34"
      },
      "source": [
        "#Splitting Function"
      ]
    },
    {
      "cell_type": "markdown",
      "metadata": {
        "id": "-64VeUbLJXF9"
      },
      "source": [
        "This function splits the dataset into training and testing dataset while respecting the order of Time Series"
      ]
    },
    {
      "cell_type": "code",
      "metadata": {
        "id": "JCdmcsRSB7CL"
      },
      "source": [
        "def split(dft, split_ratio = 0.75, random_state = 4):\n",
        "  train_size = int(split_ratio * len(dft))\n",
        "  test_size = len(dft) - train_size\n",
        "  train_data = dft[0:train_size,:]\n",
        "  test_data = dft[train_size:len(dft)]\n",
        "\n",
        "  return train_data, test_data"
      ],
      "execution_count": 6,
      "outputs": []
    },
    {
      "cell_type": "markdown",
      "metadata": {
        "id": "L2_3oFgEE5if"
      },
      "source": [
        "#Dataset Matrix"
      ]
    },
    {
      "cell_type": "markdown",
      "metadata": {
        "id": "t016bq11Jg2q"
      },
      "source": [
        "This function converts the data into the working format. For our workable format, we are using past 60 days data to predict the data for the 61th day."
      ]
    },
    {
      "cell_type": "code",
      "metadata": {
        "id": "BKFGxgCSDmTu"
      },
      "source": [
        "def data_matrix(dft, n_future = 10, n_past = 60):\n",
        "  x = []\n",
        "  y = []\n",
        "  for i in range(n_past, len(dft) - n_future + 1):\n",
        "    x.append(dft[i - n_past:i])\n",
        "    y.append(dft[i:(i + n_future), 0])\n",
        "\n",
        "  return np.array(x), np.array(y)"
      ],
      "execution_count": 7,
      "outputs": []
    },
    {
      "cell_type": "markdown",
      "metadata": {
        "id": "KK9LhO6Pzne5"
      },
      "source": [
        "##Function check"
      ]
    },
    {
      "cell_type": "code",
      "metadata": {
        "colab": {
          "base_uri": "https://localhost:8080/",
          "height": 0
        },
        "id": "9nQJ6lfBDnPC",
        "outputId": "3b095ea2-ef21-4450-ecbf-4b59cdd143bf"
      },
      "source": [
        "xt, yt = data_matrix(df, n_future = 10, n_past = 60)\n",
        "print(xt.shape)\n",
        "print(yt.shape)"
      ],
      "execution_count": 12,
      "outputs": [
        {
          "output_type": "error",
          "ename": "TypeError",
          "evalue": "ignored",
          "traceback": [
            "\u001b[0;31m---------------------------------------------------------------------------\u001b[0m",
            "\u001b[0;31mTypeError\u001b[0m                                 Traceback (most recent call last)",
            "\u001b[0;32m<ipython-input-12-b30c3e788e25>\u001b[0m in \u001b[0;36m<module>\u001b[0;34m()\u001b[0m\n\u001b[0;32m----> 1\u001b[0;31m \u001b[0mxt\u001b[0m\u001b[0;34m,\u001b[0m \u001b[0myt\u001b[0m \u001b[0;34m=\u001b[0m \u001b[0mdata_matrix\u001b[0m\u001b[0;34m(\u001b[0m\u001b[0mdf\u001b[0m\u001b[0;34m,\u001b[0m \u001b[0mn_future\u001b[0m \u001b[0;34m=\u001b[0m \u001b[0;36m10\u001b[0m\u001b[0;34m,\u001b[0m \u001b[0mn_past\u001b[0m \u001b[0;34m=\u001b[0m \u001b[0;36m60\u001b[0m\u001b[0;34m)\u001b[0m\u001b[0;34m\u001b[0m\u001b[0;34m\u001b[0m\u001b[0m\n\u001b[0m\u001b[1;32m      2\u001b[0m \u001b[0mprint\u001b[0m\u001b[0;34m(\u001b[0m\u001b[0mxt\u001b[0m\u001b[0;34m.\u001b[0m\u001b[0mshape\u001b[0m\u001b[0;34m)\u001b[0m\u001b[0;34m\u001b[0m\u001b[0;34m\u001b[0m\u001b[0m\n\u001b[1;32m      3\u001b[0m \u001b[0mprint\u001b[0m\u001b[0;34m(\u001b[0m\u001b[0myt\u001b[0m\u001b[0;34m.\u001b[0m\u001b[0mshape\u001b[0m\u001b[0;34m)\u001b[0m\u001b[0;34m\u001b[0m\u001b[0;34m\u001b[0m\u001b[0m\n",
            "\u001b[0;32m<ipython-input-7-ce2fbd4f0ca5>\u001b[0m in \u001b[0;36mdata_matrix\u001b[0;34m(dft, n_future, n_past)\u001b[0m\n\u001b[1;32m      4\u001b[0m   \u001b[0;32mfor\u001b[0m \u001b[0mi\u001b[0m \u001b[0;32min\u001b[0m \u001b[0mrange\u001b[0m\u001b[0;34m(\u001b[0m\u001b[0mn_past\u001b[0m\u001b[0;34m,\u001b[0m \u001b[0mlen\u001b[0m\u001b[0;34m(\u001b[0m\u001b[0mdft\u001b[0m\u001b[0;34m)\u001b[0m \u001b[0;34m-\u001b[0m \u001b[0mn_future\u001b[0m \u001b[0;34m+\u001b[0m \u001b[0;36m1\u001b[0m\u001b[0;34m)\u001b[0m\u001b[0;34m:\u001b[0m\u001b[0;34m\u001b[0m\u001b[0;34m\u001b[0m\u001b[0m\n\u001b[1;32m      5\u001b[0m     \u001b[0mx\u001b[0m\u001b[0;34m.\u001b[0m\u001b[0mappend\u001b[0m\u001b[0;34m(\u001b[0m\u001b[0mdft\u001b[0m\u001b[0;34m[\u001b[0m\u001b[0mi\u001b[0m \u001b[0;34m-\u001b[0m \u001b[0mn_past\u001b[0m\u001b[0;34m:\u001b[0m\u001b[0mi\u001b[0m\u001b[0;34m]\u001b[0m\u001b[0;34m)\u001b[0m\u001b[0;34m\u001b[0m\u001b[0;34m\u001b[0m\u001b[0m\n\u001b[0;32m----> 6\u001b[0;31m     \u001b[0my\u001b[0m\u001b[0;34m.\u001b[0m\u001b[0mappend\u001b[0m\u001b[0;34m(\u001b[0m\u001b[0mdft\u001b[0m\u001b[0;34m[\u001b[0m\u001b[0mi\u001b[0m\u001b[0;34m:\u001b[0m\u001b[0;34m(\u001b[0m\u001b[0mi\u001b[0m \u001b[0;34m+\u001b[0m \u001b[0mn_future\u001b[0m\u001b[0;34m)\u001b[0m\u001b[0;34m,\u001b[0m \u001b[0;36m0\u001b[0m\u001b[0;34m]\u001b[0m\u001b[0;34m)\u001b[0m\u001b[0;34m\u001b[0m\u001b[0;34m\u001b[0m\u001b[0m\n\u001b[0m\u001b[1;32m      7\u001b[0m \u001b[0;34m\u001b[0m\u001b[0m\n\u001b[1;32m      8\u001b[0m   \u001b[0;32mreturn\u001b[0m \u001b[0mnp\u001b[0m\u001b[0;34m.\u001b[0m\u001b[0marray\u001b[0m\u001b[0;34m(\u001b[0m\u001b[0mx\u001b[0m\u001b[0;34m)\u001b[0m\u001b[0;34m,\u001b[0m \u001b[0mnp\u001b[0m\u001b[0;34m.\u001b[0m\u001b[0marray\u001b[0m\u001b[0;34m(\u001b[0m\u001b[0my\u001b[0m\u001b[0;34m)\u001b[0m\u001b[0;34m\u001b[0m\u001b[0;34m\u001b[0m\u001b[0m\n",
            "\u001b[0;32m/usr/local/lib/python3.7/dist-packages/pandas/core/frame.py\u001b[0m in \u001b[0;36m__getitem__\u001b[0;34m(self, key)\u001b[0m\n\u001b[1;32m   2904\u001b[0m             \u001b[0;32mif\u001b[0m \u001b[0mself\u001b[0m\u001b[0;34m.\u001b[0m\u001b[0mcolumns\u001b[0m\u001b[0;34m.\u001b[0m\u001b[0mnlevels\u001b[0m \u001b[0;34m>\u001b[0m \u001b[0;36m1\u001b[0m\u001b[0;34m:\u001b[0m\u001b[0;34m\u001b[0m\u001b[0;34m\u001b[0m\u001b[0m\n\u001b[1;32m   2905\u001b[0m                 \u001b[0;32mreturn\u001b[0m \u001b[0mself\u001b[0m\u001b[0;34m.\u001b[0m\u001b[0m_getitem_multilevel\u001b[0m\u001b[0;34m(\u001b[0m\u001b[0mkey\u001b[0m\u001b[0;34m)\u001b[0m\u001b[0;34m\u001b[0m\u001b[0;34m\u001b[0m\u001b[0m\n\u001b[0;32m-> 2906\u001b[0;31m             \u001b[0mindexer\u001b[0m \u001b[0;34m=\u001b[0m \u001b[0mself\u001b[0m\u001b[0;34m.\u001b[0m\u001b[0mcolumns\u001b[0m\u001b[0;34m.\u001b[0m\u001b[0mget_loc\u001b[0m\u001b[0;34m(\u001b[0m\u001b[0mkey\u001b[0m\u001b[0;34m)\u001b[0m\u001b[0;34m\u001b[0m\u001b[0;34m\u001b[0m\u001b[0m\n\u001b[0m\u001b[1;32m   2907\u001b[0m             \u001b[0;32mif\u001b[0m \u001b[0mis_integer\u001b[0m\u001b[0;34m(\u001b[0m\u001b[0mindexer\u001b[0m\u001b[0;34m)\u001b[0m\u001b[0;34m:\u001b[0m\u001b[0;34m\u001b[0m\u001b[0;34m\u001b[0m\u001b[0m\n\u001b[1;32m   2908\u001b[0m                 \u001b[0mindexer\u001b[0m \u001b[0;34m=\u001b[0m \u001b[0;34m[\u001b[0m\u001b[0mindexer\u001b[0m\u001b[0;34m]\u001b[0m\u001b[0;34m\u001b[0m\u001b[0;34m\u001b[0m\u001b[0m\n",
            "\u001b[0;32m/usr/local/lib/python3.7/dist-packages/pandas/core/indexes/base.py\u001b[0m in \u001b[0;36mget_loc\u001b[0;34m(self, key, method, tolerance)\u001b[0m\n\u001b[1;32m   2896\u001b[0m             \u001b[0mcasted_key\u001b[0m \u001b[0;34m=\u001b[0m \u001b[0mself\u001b[0m\u001b[0;34m.\u001b[0m\u001b[0m_maybe_cast_indexer\u001b[0m\u001b[0;34m(\u001b[0m\u001b[0mkey\u001b[0m\u001b[0;34m)\u001b[0m\u001b[0;34m\u001b[0m\u001b[0;34m\u001b[0m\u001b[0m\n\u001b[1;32m   2897\u001b[0m             \u001b[0;32mtry\u001b[0m\u001b[0;34m:\u001b[0m\u001b[0;34m\u001b[0m\u001b[0;34m\u001b[0m\u001b[0m\n\u001b[0;32m-> 2898\u001b[0;31m                 \u001b[0;32mreturn\u001b[0m \u001b[0mself\u001b[0m\u001b[0;34m.\u001b[0m\u001b[0m_engine\u001b[0m\u001b[0;34m.\u001b[0m\u001b[0mget_loc\u001b[0m\u001b[0;34m(\u001b[0m\u001b[0mcasted_key\u001b[0m\u001b[0;34m)\u001b[0m\u001b[0;34m\u001b[0m\u001b[0;34m\u001b[0m\u001b[0m\n\u001b[0m\u001b[1;32m   2899\u001b[0m             \u001b[0;32mexcept\u001b[0m \u001b[0mKeyError\u001b[0m \u001b[0;32mas\u001b[0m \u001b[0merr\u001b[0m\u001b[0;34m:\u001b[0m\u001b[0;34m\u001b[0m\u001b[0;34m\u001b[0m\u001b[0m\n\u001b[1;32m   2900\u001b[0m                 \u001b[0;32mraise\u001b[0m \u001b[0mKeyError\u001b[0m\u001b[0;34m(\u001b[0m\u001b[0mkey\u001b[0m\u001b[0;34m)\u001b[0m \u001b[0;32mfrom\u001b[0m \u001b[0merr\u001b[0m\u001b[0;34m\u001b[0m\u001b[0;34m\u001b[0m\u001b[0m\n",
            "\u001b[0;32mpandas/_libs/index.pyx\u001b[0m in \u001b[0;36mpandas._libs.index.IndexEngine.get_loc\u001b[0;34m()\u001b[0m\n",
            "\u001b[0;32mpandas/_libs/index.pyx\u001b[0m in \u001b[0;36mpandas._libs.index.IndexEngine.get_loc\u001b[0;34m()\u001b[0m\n",
            "\u001b[0;31mTypeError\u001b[0m: '(slice(60, 70, None), 0)' is an invalid key"
          ]
        }
      ]
    },
    {
      "cell_type": "code",
      "metadata": {
        "colab": {
          "base_uri": "https://localhost:8080/"
        },
        "id": "3YF_YqacIySF",
        "outputId": "422c9a31-4678-4db8-d770-7a3a1fbfdea8"
      },
      "source": [
        "xt"
      ],
      "execution_count": null,
      "outputs": [
        {
          "output_type": "execute_result",
          "data": {
            "text/plain": [
              "array([[[11882.1 , 11912.15, 11826.95, 11855.75],\n",
              "        [11868.4 , 11872.8 , 11545.55, 11564.05],\n",
              "        [11545.75, 11545.75, 11265.55, 11305.45],\n",
              "        ...,\n",
              "        [11179.2 , 11420.4 , 11136.45, 11387.3 ],\n",
              "        [11348.85, 11599.  , 11348.15, 11523.4 ],\n",
              "        [11522.75, 11657.6 , 11507.45, 11582.5 ]],\n",
              "\n",
              "       [[11868.4 , 11872.8 , 11545.55, 11564.05],\n",
              "        [11545.75, 11545.75, 11265.55, 11305.45],\n",
              "        [11350.7 , 11377.1 , 11164.75, 11186.8 ],\n",
              "        ...,\n",
              "        [11348.85, 11599.  , 11348.15, 11523.4 ],\n",
              "        [11522.75, 11657.6 , 11507.45, 11582.5 ],\n",
              "        [11625.5 , 11801.65, 11625.5 , 11765.2 ]],\n",
              "\n",
              "       [[11545.75, 11545.75, 11265.55, 11305.45],\n",
              "        [11350.7 , 11377.1 , 11164.75, 11186.8 ],\n",
              "        [11146.45, 11258.5 , 11007.9 , 11053.35],\n",
              "        ...,\n",
              "        [11522.75, 11657.6 , 11507.45, 11582.5 ],\n",
              "        [11625.5 , 11801.65, 11625.5 , 11765.2 ],\n",
              "        [11804.95, 11898.4 , 11569.25, 11705.45]],\n",
              "\n",
              "       ...,\n",
              "\n",
              "       [[36371.55, 36656.2 , 35584.6 , 35841.6 ],\n",
              "        [35874.3 , 36128.9 , 35097.55, 35257.2 ],\n",
              "        [35540.55, 35680.85, 34976.  , 35116.95],\n",
              "        ...,\n",
              "        [33717.1 , 33959.3 , 33608.25, 33685.2 ],\n",
              "        [33692.55, 33833.7 , 33273.95, 33334.55],\n",
              "        [33559.8 , 34694.45, 33559.75, 34606.9 ]],\n",
              "\n",
              "       [[35874.3 , 36128.9 , 35097.55, 35257.2 ],\n",
              "        [35540.55, 35680.85, 34976.  , 35116.95],\n",
              "        [35205.4 , 36567.65, 35060.65, 36452.3 ],\n",
              "        ...,\n",
              "        [33692.55, 33833.7 , 33273.95, 33334.55],\n",
              "        [33559.8 , 34694.45, 33559.75, 34606.9 ],\n",
              "        [34869.3 , 35216.1 , 34528.3 , 34943.6 ]],\n",
              "\n",
              "       [[35540.55, 35680.85, 34976.  , 35116.95],\n",
              "        [35205.4 , 36567.65, 35060.65, 36452.3 ],\n",
              "        [36763.15, 37232.2 , 36494.  , 36549.  ],\n",
              "        ...,\n",
              "        [33559.8 , 34694.45, 33559.75, 34606.9 ],\n",
              "        [34869.3 , 35216.1 , 34528.3 , 34943.6 ],\n",
              "        [35095.  , 35125.85, 34410.4 , 34662.  ]]])"
            ]
          },
          "metadata": {
            "tags": []
          },
          "execution_count": 71
        }
      ]
    },
    {
      "cell_type": "markdown",
      "metadata": {
        "id": "UHGNI5t7QF76"
      },
      "source": [
        "#Defining the LSTM model"
      ]
    },
    {
      "cell_type": "code",
      "metadata": {
        "id": "MYKIGHTDJoiD"
      },
      "source": [
        "def LSTM_model(x, y, lstm_layers = 2, hidden_units=[64, 32], dropout = 0.2, act = [\"tanh\", \"tanh\"]):\n",
        "  model = Sequential()\n",
        "  for i in range(lstm_layers):\n",
        "    if (i == 0):\n",
        "      model.add(LSTM(hidden_units[i], activation= act[i], input_shape = (x.shape[1], x.shape[2]), return_sequences = True))\n",
        "    elif (i== lstm_layers-1):\n",
        "      model.add(LSTM(hidden_units[i], activation=act[i], return_sequences = False))\n",
        "    else:\n",
        "      model.add(LSTM(hidden_units[i], activation=act[i], return_sequences = True))\n",
        "    \n",
        "  model.add(Dropout(dropout))\n",
        "  model.add(Dense(y.shape[1]))\n",
        "\n",
        "  model.compile(loss = 'mean_squared_error', optimizer = 'adam')\n",
        "  model.summary()\n",
        "\n",
        "  return model\n"
      ],
      "execution_count": 8,
      "outputs": []
    },
    {
      "cell_type": "markdown",
      "metadata": {
        "id": "9VNU0VMfzuj_"
      },
      "source": [
        "##check"
      ]
    },
    {
      "cell_type": "code",
      "metadata": {
        "id": "vxO4rd0IKna8"
      },
      "source": [
        "Model = LSTM_model(xt, yt, lstm_layers  = 2, hidden_units = [64, 32], dropout = 0.3)"
      ],
      "execution_count": null,
      "outputs": []
    },
    {
      "cell_type": "code",
      "metadata": {
        "colab": {
          "base_uri": "https://localhost:8080/"
        },
        "id": "YBV3vDfzPwRM",
        "outputId": "87ceeae6-01f6-4e55-d562-dfb2f8208752"
      },
      "source": [
        "fitted = Model.fit(xt, yt, epochs = 10, batch_size = 32, verbose=1, validation_split=0.15)"
      ],
      "execution_count": null,
      "outputs": [
        {
          "output_type": "stream",
          "text": [
            "Epoch 1/10\n",
            "67/67 [==============================] - 6s 52ms/step - loss: 1679364352.0000 - val_loss: 1213362176.0000\n",
            "Epoch 2/10\n",
            "67/67 [==============================] - 3s 48ms/step - loss: 865854400.0000 - val_loss: 10670977024.0000\n",
            "Epoch 3/10\n",
            "67/67 [==============================] - 3s 48ms/step - loss: 2875963904.0000 - val_loss: 1000353536.0000\n",
            "Epoch 4/10\n",
            "67/67 [==============================] - 3s 47ms/step - loss: 443678784.0000 - val_loss: 517981024.0000\n",
            "Epoch 5/10\n",
            "67/67 [==============================] - 3s 47ms/step - loss: 225486656.0000 - val_loss: 288885184.0000\n",
            "Epoch 6/10\n",
            "67/67 [==============================] - 3s 48ms/step - loss: 966415104.0000 - val_loss: 242681568.0000\n",
            "Epoch 7/10\n",
            "67/67 [==============================] - 3s 48ms/step - loss: 182375088.0000 - val_loss: 191483984.0000\n",
            "Epoch 8/10\n",
            "67/67 [==============================] - 3s 48ms/step - loss: 693309120.0000 - val_loss: 450224576.0000\n",
            "Epoch 9/10\n",
            "67/67 [==============================] - 3s 48ms/step - loss: 163206800.0000 - val_loss: 134520592.0000\n",
            "Epoch 10/10\n",
            "67/67 [==============================] - 3s 47ms/step - loss: 83391088.0000 - val_loss: 60009072.0000\n"
          ],
          "name": "stdout"
        }
      ]
    },
    {
      "cell_type": "markdown",
      "metadata": {
        "id": "FbXclUYoHxx0"
      },
      "source": [
        "#Using MinMaxScaler and then training"
      ]
    },
    {
      "cell_type": "code",
      "metadata": {
        "id": "5HcYP8bSQ0Tt",
        "colab": {
          "base_uri": "https://localhost:8080/"
        },
        "outputId": "bada0628-9853-457b-cbc4-53ee9339ca6a"
      },
      "source": [
        "#Using scale() to scale the data\n",
        "df_scaled = mm_scaler.fit_transform(df)\n",
        "\n",
        "#Using split() to split the dataset into train and test set\n",
        "df_train, df_test = split(df_scaled, split_ratio=0.75)\n",
        "\n",
        "#Using data_matrix() to convert train and test data into input data matrix\n",
        "x_train, y_train = data_matrix(df_train, n_future = 1, n_past = 60)\n",
        "x_test, y_test = data_matrix(df_test, n_future = 1, n_past = 60)\n",
        "\n",
        "#Creating a model using LSTM_model()\n",
        "Model = LSTM_model(x_train, y_train, lstm_layers=3, hidden_units=[64, 32, 20], dropout = 0.25, act = ['tanh', 'tanh', 'tanh'])\n",
        "\n",
        "#Fitting the data\n",
        "fitted = Model.fit(x_train, y_train, batch_size = 64, epochs = 50, verbose = 1, validation_split= 0.15 )"
      ],
      "execution_count": 116,
      "outputs": [
        {
          "output_type": "stream",
          "text": [
            "Model: \"sequential_3\"\n",
            "_________________________________________________________________\n",
            "Layer (type)                 Output Shape              Param #   \n",
            "=================================================================\n",
            "lstm_9 (LSTM)                (None, 60, 64)            17664     \n",
            "_________________________________________________________________\n",
            "lstm_10 (LSTM)               (None, 60, 32)            12416     \n",
            "_________________________________________________________________\n",
            "lstm_11 (LSTM)               (None, 20)                4240      \n",
            "_________________________________________________________________\n",
            "dropout_3 (Dropout)          (None, 20)                0         \n",
            "_________________________________________________________________\n",
            "dense_3 (Dense)              (None, 1)                 21        \n",
            "=================================================================\n",
            "Total params: 34,341\n",
            "Trainable params: 34,341\n",
            "Non-trainable params: 0\n",
            "_________________________________________________________________\n",
            "Epoch 1/50\n",
            "25/25 [==============================] - 7s 109ms/step - loss: 0.0120 - val_loss: 0.0022\n",
            "Epoch 2/50\n",
            "25/25 [==============================] - 2s 73ms/step - loss: 0.0028 - val_loss: 0.0029\n",
            "Epoch 3/50\n",
            "25/25 [==============================] - 2s 72ms/step - loss: 0.0022 - val_loss: 0.0013\n",
            "Epoch 4/50\n",
            "25/25 [==============================] - 2s 71ms/step - loss: 0.0018 - val_loss: 0.0015\n",
            "Epoch 5/50\n",
            "25/25 [==============================] - 2s 73ms/step - loss: 0.0021 - val_loss: 5.1582e-04\n",
            "Epoch 6/50\n",
            "25/25 [==============================] - 2s 71ms/step - loss: 0.0018 - val_loss: 5.4731e-04\n",
            "Epoch 7/50\n",
            "25/25 [==============================] - 2s 80ms/step - loss: 0.0017 - val_loss: 5.1503e-04\n",
            "Epoch 8/50\n",
            "25/25 [==============================] - 2s 74ms/step - loss: 0.0015 - val_loss: 0.0012\n",
            "Epoch 9/50\n",
            "25/25 [==============================] - 2s 71ms/step - loss: 0.0014 - val_loss: 5.8067e-04\n",
            "Epoch 10/50\n",
            "25/25 [==============================] - 2s 73ms/step - loss: 0.0015 - val_loss: 6.1409e-04\n",
            "Epoch 11/50\n",
            "25/25 [==============================] - 2s 80ms/step - loss: 0.0014 - val_loss: 8.0502e-04\n",
            "Epoch 12/50\n",
            "25/25 [==============================] - 2s 76ms/step - loss: 0.0013 - val_loss: 4.4607e-04\n",
            "Epoch 13/50\n",
            "25/25 [==============================] - 2s 84ms/step - loss: 0.0014 - val_loss: 0.0018\n",
            "Epoch 14/50\n",
            "25/25 [==============================] - 2s 80ms/step - loss: 0.0015 - val_loss: 4.3205e-04\n",
            "Epoch 15/50\n",
            "25/25 [==============================] - 2s 79ms/step - loss: 0.0014 - val_loss: 0.0019\n",
            "Epoch 16/50\n",
            "25/25 [==============================] - 2s 73ms/step - loss: 0.0012 - val_loss: 0.0013\n",
            "Epoch 17/50\n",
            "25/25 [==============================] - 2s 72ms/step - loss: 0.0012 - val_loss: 3.8855e-04\n",
            "Epoch 18/50\n",
            "25/25 [==============================] - 2s 72ms/step - loss: 0.0013 - val_loss: 0.0017\n",
            "Epoch 19/50\n",
            "25/25 [==============================] - 2s 74ms/step - loss: 0.0012 - val_loss: 4.0587e-04\n",
            "Epoch 20/50\n",
            "25/25 [==============================] - 2s 73ms/step - loss: 0.0011 - val_loss: 9.6542e-04\n",
            "Epoch 21/50\n",
            "25/25 [==============================] - 2s 74ms/step - loss: 0.0011 - val_loss: 4.6616e-04\n",
            "Epoch 22/50\n",
            "25/25 [==============================] - 2s 73ms/step - loss: 0.0010 - val_loss: 7.4674e-04\n",
            "Epoch 23/50\n",
            "25/25 [==============================] - 2s 72ms/step - loss: 0.0011 - val_loss: 4.8579e-04\n",
            "Epoch 24/50\n",
            "25/25 [==============================] - 2s 73ms/step - loss: 0.0010 - val_loss: 3.7329e-04\n",
            "Epoch 25/50\n",
            "25/25 [==============================] - 2s 72ms/step - loss: 9.1421e-04 - val_loss: 0.0013\n",
            "Epoch 26/50\n",
            "25/25 [==============================] - 2s 72ms/step - loss: 9.2460e-04 - val_loss: 7.7587e-04\n",
            "Epoch 27/50\n",
            "25/25 [==============================] - 2s 73ms/step - loss: 9.5458e-04 - val_loss: 3.9925e-04\n",
            "Epoch 28/50\n",
            "25/25 [==============================] - 2s 71ms/step - loss: 0.0010 - val_loss: 3.3594e-04\n",
            "Epoch 29/50\n",
            "25/25 [==============================] - 2s 73ms/step - loss: 9.0053e-04 - val_loss: 7.6009e-04\n",
            "Epoch 30/50\n",
            "25/25 [==============================] - 2s 72ms/step - loss: 8.3171e-04 - val_loss: 7.5896e-04\n",
            "Epoch 31/50\n",
            "25/25 [==============================] - 2s 73ms/step - loss: 8.7208e-04 - val_loss: 3.8906e-04\n",
            "Epoch 32/50\n",
            "25/25 [==============================] - 2s 73ms/step - loss: 7.9102e-04 - val_loss: 3.9753e-04\n",
            "Epoch 33/50\n",
            "25/25 [==============================] - 2s 73ms/step - loss: 8.5433e-04 - val_loss: 4.2233e-04\n",
            "Epoch 34/50\n",
            "25/25 [==============================] - 2s 71ms/step - loss: 7.5996e-04 - val_loss: 3.4368e-04\n",
            "Epoch 35/50\n",
            "25/25 [==============================] - 2s 74ms/step - loss: 8.2093e-04 - val_loss: 4.1865e-04\n",
            "Epoch 36/50\n",
            "25/25 [==============================] - 2s 80ms/step - loss: 7.2820e-04 - val_loss: 5.0833e-04\n",
            "Epoch 37/50\n",
            "25/25 [==============================] - 2s 77ms/step - loss: 8.5314e-04 - val_loss: 2.9574e-04\n",
            "Epoch 38/50\n",
            "25/25 [==============================] - 2s 77ms/step - loss: 7.0263e-04 - val_loss: 4.3086e-04\n",
            "Epoch 39/50\n",
            "25/25 [==============================] - 2s 72ms/step - loss: 7.3286e-04 - val_loss: 4.7171e-04\n",
            "Epoch 40/50\n",
            "25/25 [==============================] - 2s 73ms/step - loss: 6.8057e-04 - val_loss: 8.2673e-04\n",
            "Epoch 41/50\n",
            "25/25 [==============================] - 2s 73ms/step - loss: 6.7096e-04 - val_loss: 5.3592e-04\n",
            "Epoch 42/50\n",
            "25/25 [==============================] - 2s 74ms/step - loss: 6.9405e-04 - val_loss: 3.2983e-04\n",
            "Epoch 43/50\n",
            "25/25 [==============================] - 2s 74ms/step - loss: 6.7637e-04 - val_loss: 2.9092e-04\n",
            "Epoch 44/50\n",
            "25/25 [==============================] - 2s 73ms/step - loss: 6.3061e-04 - val_loss: 2.6759e-04\n",
            "Epoch 45/50\n",
            "25/25 [==============================] - 2s 75ms/step - loss: 7.0334e-04 - val_loss: 7.8194e-04\n",
            "Epoch 46/50\n",
            "25/25 [==============================] - 2s 73ms/step - loss: 5.8760e-04 - val_loss: 3.0830e-04\n",
            "Epoch 47/50\n",
            "25/25 [==============================] - 2s 72ms/step - loss: 6.3470e-04 - val_loss: 3.0122e-04\n",
            "Epoch 48/50\n",
            "25/25 [==============================] - 2s 72ms/step - loss: 6.9941e-04 - val_loss: 2.5234e-04\n",
            "Epoch 49/50\n",
            "25/25 [==============================] - 2s 70ms/step - loss: 6.3504e-04 - val_loss: 2.4888e-04\n",
            "Epoch 50/50\n",
            "25/25 [==============================] - 2s 72ms/step - loss: 6.0095e-04 - val_loss: 9.9382e-04\n"
          ],
          "name": "stdout"
        }
      ]
    },
    {
      "cell_type": "code",
      "metadata": {
        "id": "vJXibqaQJy75"
      },
      "source": [
        "train_pred = Model.predict(x_train)\n",
        "test_pred = Model.predict(x_test)"
      ],
      "execution_count": 124,
      "outputs": []
    },
    {
      "cell_type": "markdown",
      "metadata": {
        "id": "-Ayh5GkH9a8S"
      },
      "source": [
        "##check"
      ]
    },
    {
      "cell_type": "code",
      "metadata": {
        "colab": {
          "base_uri": "https://localhost:8080/"
        },
        "id": "N1EF_nZ0Q2j_",
        "outputId": "d012ca57-3dd8-4eb4-f932-1d119c59babd"
      },
      "source": [
        "train_pred.shape"
      ],
      "execution_count": 39,
      "outputs": [
        {
          "output_type": "execute_result",
          "data": {
            "text/plain": [
              "(1878, 1)"
            ]
          },
          "metadata": {
            "tags": []
          },
          "execution_count": 39
        }
      ]
    },
    {
      "cell_type": "code",
      "metadata": {
        "colab": {
          "base_uri": "https://localhost:8080/"
        },
        "id": "YajBMTBPSZH9",
        "outputId": "22f93ae9-515c-4d5e-86db-18634f0717f4"
      },
      "source": [
        "y_train.shape"
      ],
      "execution_count": 40,
      "outputs": [
        {
          "output_type": "execute_result",
          "data": {
            "text/plain": [
              "(1878, 1)"
            ]
          },
          "metadata": {
            "tags": []
          },
          "execution_count": 40
        }
      ]
    },
    {
      "cell_type": "code",
      "metadata": {
        "colab": {
          "base_uri": "https://localhost:8080/"
        },
        "id": "ZkiJUWVdSk8n",
        "outputId": "f36b01cd-5a03-47f9-b9ad-6d489899114c"
      },
      "source": [
        "train_pred"
      ],
      "execution_count": 41,
      "outputs": [
        {
          "output_type": "execute_result",
          "data": {
            "text/plain": [
              "array([[0.10975119],\n",
              "       [0.11305219],\n",
              "       [0.11684225],\n",
              "       ...,\n",
              "       [0.55855083],\n",
              "       [0.5594566 ],\n",
              "       [0.5594465 ]], dtype=float32)"
            ]
          },
          "metadata": {
            "tags": []
          },
          "execution_count": 41
        }
      ]
    },
    {
      "cell_type": "markdown",
      "metadata": {
        "id": "dDOuoueT9eCn"
      },
      "source": [
        "#Score"
      ]
    },
    {
      "cell_type": "code",
      "metadata": {
        "colab": {
          "base_uri": "https://localhost:8080/"
        },
        "id": "f0BhsXqlUqQL",
        "outputId": "fa780a4f-5aac-4e39-8b62-5480ef2d7d63"
      },
      "source": [
        "train_mse = math.sqrt(mean_squared_error(y_train, train_pred))\n",
        "train_r2 = r2_score(y_train, train_pred)\n",
        "\n",
        "print(\"Training set RMSE: \", train_mse)\n",
        "print(\"Training set R2: \", train_r2)\n",
        "\n",
        "test_mse = math.sqrt(mean_squared_error(y_test, test_pred))\n",
        "test_r2 = r2_score(y_test, test_pred)\n",
        "print(\"Testing set RMSE: \", test_mse)\n",
        "print(\"Testing set R2: \", test_r2)"
      ],
      "execution_count": 125,
      "outputs": [
        {
          "output_type": "stream",
          "text": [
            "Training set RMSE:  0.020252962125923948\n",
            "Training set R2:  0.9885393035728911\n",
            "Testing set RMSE:  0.054898484050138995\n",
            "Testing set R2:  0.8816883491188503\n"
          ],
          "name": "stdout"
        }
      ]
    },
    {
      "cell_type": "markdown",
      "metadata": {
        "id": "rKEAc1dDEcbS"
      },
      "source": [
        "#Getting predictions"
      ]
    },
    {
      "cell_type": "code",
      "metadata": {
        "colab": {
          "base_uri": "https://localhost:8080/"
        },
        "id": "ixi6_9BYVmd3",
        "outputId": "d57d0660-65cc-478a-ed79-c930d4ef4820"
      },
      "source": [
        "y_pred = np.array(train_pred[-60:])\n",
        "y_pred = y_pred.reshape(-1)\n",
        "y_pred.shape"
      ],
      "execution_count": 126,
      "outputs": [
        {
          "output_type": "execute_result",
          "data": {
            "text/plain": [
              "(60,)"
            ]
          },
          "metadata": {
            "tags": []
          },
          "execution_count": 126
        }
      ]
    },
    {
      "cell_type": "code",
      "metadata": {
        "colab": {
          "base_uri": "https://localhost:8080/"
        },
        "id": "k8_2hzcAYFOe",
        "outputId": "5cdc98b6-416f-4bab-d8ce-ba71d942d398"
      },
      "source": [
        "temp = np.array(test_pred)\n",
        "temp = temp.reshape(-1)\n",
        "y_pred = np.concatenate((y_pred, temp))\n",
        "y_pred.shape"
      ],
      "execution_count": 127,
      "outputs": [
        {
          "output_type": "execute_result",
          "data": {
            "text/plain": [
              "(646,)"
            ]
          },
          "metadata": {
            "tags": []
          },
          "execution_count": 127
        }
      ]
    },
    {
      "cell_type": "code",
      "metadata": {
        "colab": {
          "base_uri": "https://localhost:8080/"
        },
        "id": "yAhU-0-u-r3U",
        "outputId": "42818657-6ef9-46e1-b901-942ed332a6f6"
      },
      "source": [
        "y_pred = y_pred.reshape((-1,1))\n",
        "y_pred.shape"
      ],
      "execution_count": 128,
      "outputs": [
        {
          "output_type": "execute_result",
          "data": {
            "text/plain": [
              "(646, 1)"
            ]
          },
          "metadata": {
            "tags": []
          },
          "execution_count": 128
        }
      ]
    },
    {
      "cell_type": "code",
      "metadata": {
        "colab": {
          "base_uri": "https://localhost:8080/"
        },
        "id": "ywvCPVvjAgP8",
        "outputId": "f7ed50a0-b4a7-4ee8-9d5c-9011802338e4"
      },
      "source": [
        "y_pred = np.repeat(y_pred, 4,axis=1)\n",
        "y_pred.shape"
      ],
      "execution_count": 129,
      "outputs": [
        {
          "output_type": "execute_result",
          "data": {
            "text/plain": [
              "(646, 4)"
            ]
          },
          "metadata": {
            "tags": []
          },
          "execution_count": 129
        }
      ]
    },
    {
      "cell_type": "code",
      "metadata": {
        "colab": {
          "base_uri": "https://localhost:8080/"
        },
        "id": "kLUgfpiZBCqt",
        "outputId": "713affdd-ba54-48df-8416-04335055129e"
      },
      "source": [
        "y_pred"
      ],
      "execution_count": 130,
      "outputs": [
        {
          "output_type": "execute_result",
          "data": {
            "text/plain": [
              "array([[0.6138147 , 0.6138147 , 0.6138147 , 0.6138147 ],\n",
              "       [0.61536074, 0.61536074, 0.61536074, 0.61536074],\n",
              "       [0.6179629 , 0.6179629 , 0.6179629 , 0.6179629 ],\n",
              "       ...,\n",
              "       [0.8519904 , 0.8519904 , 0.8519904 , 0.8519904 ],\n",
              "       [0.8554668 , 0.8554668 , 0.8554668 , 0.8554668 ],\n",
              "       [0.8581376 , 0.8581376 , 0.8581376 , 0.8581376 ]], dtype=float32)"
            ]
          },
          "metadata": {
            "tags": []
          },
          "execution_count": 130
        }
      ]
    },
    {
      "cell_type": "markdown",
      "metadata": {
        "id": "3R-Wy1FAEg6I"
      },
      "source": [
        "#Final Results"
      ]
    },
    {
      "cell_type": "code",
      "metadata": {
        "colab": {
          "base_uri": "https://localhost:8080/"
        },
        "id": "uvp-7vFSBQWf",
        "outputId": "660f4838-1319-4d15-811b-30430182ff0b"
      },
      "source": [
        "y_pred = mm_scaler.inverse_transform(y_pred)[:,0]\n",
        "y_pred = y_pred.reshape((-1,1))\n",
        "y_pred.shape"
      ],
      "execution_count": 131,
      "outputs": [
        {
          "output_type": "execute_result",
          "data": {
            "text/plain": [
              "(646, 1)"
            ]
          },
          "metadata": {
            "tags": []
          },
          "execution_count": 131
        }
      ]
    },
    {
      "cell_type": "code",
      "metadata": {
        "colab": {
          "base_uri": "https://localhost:8080/"
        },
        "id": "9kUcNvVIDgR5",
        "outputId": "2c8c0e63-c31d-4bde-d757-60f5b0d20494"
      },
      "source": [
        "forecast_open = []\n",
        "\n",
        "for i in range(len(df_train)):\n",
        "  forecast_open.append(np.nan)\n",
        "print(len(forecast_open))\n",
        "\n",
        "for y in y_pred:\n",
        "  forecast_open.append(y)\n",
        "\n",
        "forecast_open = np.array(forecast_open).reshape((-1))\n",
        "\n",
        "print(len(df_train))\n",
        "print(forecast_open.shape)"
      ],
      "execution_count": 132,
      "outputs": [
        {
          "output_type": "stream",
          "text": [
            "1938\n",
            "1938\n",
            "(2584,)\n"
          ],
          "name": "stdout"
        },
        {
          "output_type": "stream",
          "text": [
            "/usr/local/lib/python3.7/dist-packages/ipykernel_launcher.py:10: VisibleDeprecationWarning: Creating an ndarray from ragged nested sequences (which is a list-or-tuple of lists-or-tuples-or ndarrays with different lengths or shapes) is deprecated. If you meant to do this, you must specify 'dtype=object' when creating the ndarray\n",
            "  # Remove the CWD from sys.path while we load stuff.\n"
          ],
          "name": "stderr"
        }
      ]
    },
    {
      "cell_type": "code",
      "metadata": {
        "colab": {
          "base_uri": "https://localhost:8080/"
        },
        "id": "g-HesnnZBSPO",
        "outputId": "44d708be-4c94-4651-c419-fe90dcc3394f"
      },
      "source": [
        "df[\"Open\"].shape"
      ],
      "execution_count": 101,
      "outputs": [
        {
          "output_type": "execute_result",
          "data": {
            "text/plain": [
              "(2584,)"
            ]
          },
          "metadata": {
            "tags": []
          },
          "execution_count": 101
        }
      ]
    },
    {
      "cell_type": "code",
      "metadata": {
        "colab": {
          "base_uri": "https://localhost:8080/",
          "height": 935
        },
        "id": "1L5gtod4B_--",
        "outputId": "69e8aef2-3877-40df-b044-b4eb7f5cc6e1"
      },
      "source": [
        "plt.figure(figsize=(20,16))\n",
        "plt.plot(Dates, df[\"Open\"], color = \"red\")\n",
        "plt.plot(Dates, forecast_open, color = \"grey\")"
      ],
      "execution_count": 133,
      "outputs": [
        {
          "output_type": "execute_result",
          "data": {
            "text/plain": [
              "[<matplotlib.lines.Line2D at 0x7fb63133f910>]"
            ]
          },
          "metadata": {
            "tags": []
          },
          "execution_count": 133
        },
        {
          "output_type": "display_data",
          "data": {
            "image/png": "[encoded data removed]",
            "text/plain": [
              "<Figure size 1440x1152 with 1 Axes>"
            ]
          },
          "metadata": {
            "tags": [],
            "needs_background": "light"
          }
        }
      ]
    },
    {
      "cell_type": "code",
      "metadata": {
        "colab": {
          "base_uri": "https://localhost:8080/"
        },
        "id": "b9wdMM0ECK4n",
        "outputId": "640bf384-fe57-4a1e-af98-8fef47c84967"
      },
      "source": [
        "Final_RMSE = math.sqrt(mean_squared_error(y_pred, df[\"Open\"][-len(y_pred):]))\n",
        "Final_R2 = r2_score(y_pred,df[\"Open\"][-len(y_pred):])\n",
        "\n",
        "print(\"Final RMSE: \", Final_RMSE)\n",
        "print(\"Final R2: \", Final_R2)"
      ],
      "execution_count": 134,
      "outputs": [
        {
          "output_type": "stream",
          "text": [
            "Final RMSE:  1649.2917836117113\n",
            "Final R2:  0.8339348934807919\n"
          ],
          "name": "stdout"
        }
      ]
    },
    {
      "cell_type": "code",
      "metadata": {
        "id": "qqwmm7dDFhzQ"
      },
      "source": [
        ""
      ],
      "execution_count": null,
      "outputs": []
    }
  ]
}